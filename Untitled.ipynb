{
 "cells": [
  {
   "cell_type": "code",
   "execution_count": 1,
   "metadata": {},
   "outputs": [],
   "source": [
    "import numpy as np\n",
    "import hypernetx as hnx\n",
    "from networkx import fruchterman_reingold_layout as layout\n",
    "\n",
    "import matplotlib.pyplot as plt\n",
    "%matplotlib inline"
   ]
  },
  {
   "cell_type": "code",
   "execution_count": 67,
   "metadata": {},
   "outputs": [],
   "source": [
    "def encode_state(qubit,statevector):\n",
    "    real0 = str(statevector[0].real)\n",
    "    imag0 = str(statevector[0].imag)\n",
    "    real1 = str(statevector[1].real)\n",
    "    imag1 = str(statevector[1].imag)\n",
    "    \n",
    "    return qubit+\":\"+real0+\"|\"+imag0+\"|\"+real1+\"|\"+imag1\n",
    "\n",
    "def decode_state(state_string):\n",
    "    s = state_string.split(\":\")\n",
    "    state_comp = s[1].split(\"|\")\n",
    "    s_float = np.array(state_comp,dtype=float)\n",
    "    \n",
    "    return [s[0],np.array([np.complex(s_float[0],s_float[1]), np.complex(s_float[2],s_float[3])],dtype=np.complex_)]  "
   ]
  },
  {
   "cell_type": "code",
   "execution_count": 79,
   "metadata": {
    "scrolled": true
   },
   "outputs": [
    {
     "name": "stdout",
     "output_type": "stream",
     "text": [
      "<generator object Hypergraph.s_connected_components at 0x000001D18D8119E0>\n",
      "{'qubit_0:0.0|0.0|1.0|0.0', 'qubit_1:1.0|0.0|0.0|0.0', 'qubit_0:1.0|0.0|0.0|0.0'}\n",
      "{'system': ['qubit_0:0.0|0.0|1.0|0.0', 'qubit_1:1.0|0.0|0.0|0.0', 'qubit_0:1.0|0.0|0.0|0.0']}\n"
     ]
    },
    {
     "data": {
      "image/png": "[encoded data removed]",
      "text/plain": [
       "<Figure size 432x288 with 1 Axes>"
      ]
     },
     "metadata": {
      "needs_background": "light"
     },
     "output_type": "display_data"
    }
   ],
   "source": [
    "X = np.array([[0, 1],\n",
    "            [1, 0]],dtype=np.complex_)\n",
    "\n",
    "H = np.array([[1/np.sqrt(2), 1/np.sqrt(2)],\n",
    "            [1/np.sqrt(2), -1/np.sqrt(2)]],dtype=np.complex_)\n",
    "\n",
    "\n",
    "def toStateVector(system):\n",
    "    #TODO\n",
    "    return system\n",
    "\n",
    "def fromStateVector(state):\n",
    "    initial_state = np.array([1, 0],dtype=np.complex_)\n",
    "    excited_state = np.array([0, 1],dtype=np.complex_)\n",
    "    system = hnx.Hypergraph({'system':[encode_state(\"qubit_0\",initial_state),encode_state(\"qubit_0\",excited_state),encode_state(\"qubit_1\",initial_state)]})\n",
    "    \n",
    "    return system\n",
    "\n",
    "def mergeBranches(system):\n",
    "    #TODO\n",
    "    return system\n",
    "\n",
    "#TODO: implement edges right (use indixes)\n",
    "#TODO: implement case where branches exist\n",
    "#TODO: fix nested array problem\n",
    "#TODO: refactor this to use hnx\n",
    "def applyControlledGate(system, control, target, gate):\n",
    "    #if we dont have any branches. ignore for now\n",
    "    \n",
    "    new_nodes = []\n",
    "    new_edges = []\n",
    "    for node in system['nodes'][control]:\n",
    "        edge_0 = []\n",
    "        edge_1 = []\n",
    "        ampl2_0 = node[0].real**2 + node[0].imag**2\n",
    "        ampl2_1 = node[1].real**2 + node[1].imag**2\n",
    "        \n",
    "        node_0 = []\n",
    "        node_1 = []\n",
    "        if (ampl2_0 == 0):\n",
    "            # 1 case\n",
    "            node_0 = node\n",
    "        elif (ampl2_1 == 0):\n",
    "            # 2 case\n",
    "            node_1 = node\n",
    "        else:\n",
    "            #superposition\n",
    "            node_0 = np.array([1, 0],dtype=np.complex_)\n",
    "            node_1 = np.array([0, 1],dtype=np.complex_)\n",
    "            \n",
    "        target_0 = system['nodes'][target]\n",
    "        target_1 = []\n",
    "        for n in system['nodes'][target]:\n",
    "            new_node = np.dot(gate,n)\n",
    "            target_1.append(new_node)\n",
    "            \n",
    "        if(len(node_0) > 0):\n",
    "            edge_0.append(node_0)\n",
    "            edge_0.append(target_0)\n",
    "            new_edges.append(edge_0)\n",
    "            new_nodes.append(node_0)\n",
    "            \n",
    "        if(len(node_1) > 0):\n",
    "            edge_1.append(node_1)\n",
    "            edge_1.append(target_1)\n",
    "            new_edges.append(edge_1)\n",
    "            new_nodes.append(node_1) \n",
    "    \n",
    "    system['nodes'][control] = new_nodes\n",
    "    system['nodes'][target] = target_0 + target_1\n",
    "    system['edges'] = new_edges\n",
    "    \n",
    "    return system\n",
    "\n",
    "def applyGate(system, qubit, gate):\n",
    "    new_system = {'system':[]}\n",
    "    edges = system.components()\n",
    "    print(edges)\n",
    "    \n",
    "    for e in edges:\n",
    "        print(e)\n",
    "        for node in e:\n",
    "            node_state = decode_state(node)\n",
    "            new_state = node_state[1]\n",
    "            if (node_state[0] == qubit):\n",
    "                #we apply the gate\n",
    "                print(node_state[1])\n",
    "                new_state = np.dot(gate,node_state[1])\n",
    "                print(new_state)\n",
    "            \n",
    "            new_system['system'].append(encode_state(node_state[0],new_state))\n",
    "    \n",
    "    print(new_system)    \n",
    "    return hnx.Hypergraph(new_system)\n",
    "\n",
    "system = fromStateVector(np.array([]))\n",
    "system = applyGate(system,\"q0\",X)\n",
    "\n",
    "hnx.drawing.draw(system)\n"
   ]
  },
  {
   "cell_type": "code",
   "execution_count": null,
   "metadata": {},
   "outputs": [],
   "source": []
  },
  {
   "cell_type": "code",
   "execution_count": null,
   "metadata": {},
   "outputs": [],
   "source": []
  }
 ],
 "metadata": {
  "kernelspec": {
   "display_name": "Python 3",
   "language": "python",
   "name": "python3"
  },
  "language_info": {
   "codemirror_mode": {
    "name": "ipython",
    "version": 3
   },
   "file_extension": ".py",
   "mimetype": "text/x-python",
   "name": "python",
   "nbconvert_exporter": "python",
   "pygments_lexer": "ipython3",
   "version": "3.8.5"
  }
 },
 "nbformat": 4,
 "nbformat_minor": 4
}
