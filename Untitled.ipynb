{
 "cells": [
  {
   "cell_type": "code",
   "execution_count": 1,
   "metadata": {},
   "outputs": [],
   "source": [
    "import numpy as np"
   ]
  },
  {
   "cell_type": "code",
   "execution_count": 26,
   "metadata": {},
   "outputs": [],
   "source": [
    "def pretty(d, indent=0):\n",
    "   for key, value in d.items():\n",
    "      print('\\t' * indent + str(key))\n",
    "      if isinstance(value, dict):\n",
    "         pretty(value, indent+1)\n",
    "      else:\n",
    "         print('\\t' * (indent+1) + str(value))"
   ]
  },
  {
   "cell_type": "code",
   "execution_count": 30,
   "metadata": {},
   "outputs": [
    {
     "name": "stdout",
     "output_type": "stream",
     "text": [
      "nodes\n",
      "\tq0\n",
      "\t\t[array([0.70710678+0.j, 0.70710678+0.j]), array([0.70710678+0.j, 0.70710678+0.j])]\n",
      "\tq1\n",
      "\t\t[array([0.+0.j, 1.+0.j]), array([0.+0.j, 1.+0.j]), array([0.+0.j, 1.+0.j])]\n",
      "edges\n"
     ]
    }
   ],
   "source": [
    "X = np.array([[0, 1],\n",
    "            [1, 0]],dtype=np.complex_)\n",
    "\n",
    "H = np.array([[1/np.sqrt(2), 1/np.sqrt(2)],\n",
    "            [1/np.sqrt(2), -1/np.sqrt(2)]],dtype=np.complex_)\n",
    "\n",
    "\n",
    "def toStateVector(system):\n",
    "    #TODO\n",
    "    return system\n",
    "\n",
    "def fromStateVector(state):\n",
    "    #Set up nodes\n",
    "    nodes = {\n",
    "        \"q0\": [np.array([1, 0],dtype=np.complex_), np.array([1, 0],dtype=np.complex_)],\n",
    "        \"q1\": [np.array([1, 0],dtype=np.complex_), np.array([1, 0],dtype=np.complex_), np.array([1, 0],dtype=np.complex_)]\n",
    "    }\n",
    "\n",
    "    #Set up edges\n",
    "    edges = {\n",
    "\n",
    "    }\n",
    "\n",
    "    #set up system\n",
    "    system = {\n",
    "        'nodes': nodes,\n",
    "        'edges': edges\n",
    "    }\n",
    "    \n",
    "    return system\n",
    "\n",
    "def mergeBranches(system):\n",
    "    #TODO\n",
    "    return system\n",
    "\n",
    "def applyControlledGate(system, control, traget, gate):\n",
    "    #TODO\n",
    "    return system\n",
    "\n",
    "def applyGate(system, qubit, gate):\n",
    "    new_states = []\n",
    "    for state in system['nodes'][qubit]:\n",
    "        #we apply the gate\n",
    "        new_state = np.dot(gate,state)\n",
    "        new_states.append(new_state)\n",
    "    \n",
    "    system['nodes'][qubit] = new_states\n",
    "        \n",
    "    return system\n",
    "\n",
    "system = fromStateVector(np.array([]))\n",
    "\n",
    "s2 = applyGate(system,'q0',H)\n",
    "s3 = applyGate(s2,'q1',X)\n",
    "\n",
    "pretty(s3)"
   ]
  },
  {
   "cell_type": "code",
   "execution_count": null,
   "metadata": {},
   "outputs": [],
   "source": []
  }
 ],
 "metadata": {
  "kernelspec": {
   "display_name": "Python 3",
   "language": "python",
   "name": "python3"
  },
  "language_info": {
   "codemirror_mode": {
    "name": "ipython",
    "version": 3
   },
   "file_extension": ".py",
   "mimetype": "text/x-python",
   "name": "python",
   "nbconvert_exporter": "python",
   "pygments_lexer": "ipython3",
   "version": "3.8.5"
  }
 },
 "nbformat": 4,
 "nbformat_minor": 4
}
