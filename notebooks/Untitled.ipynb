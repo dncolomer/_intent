{
 "cells": [
  {
   "cell_type": "code",
   "execution_count": 1,
   "id": "e0d84271",
   "metadata": {},
   "outputs": [],
   "source": [
    "from unsys import *\n",
    "import unsys.visualization as vis\n",
    "import unsys.transformations as trans\n",
    "\n",
    "import numpy as np"
   ]
  },
  {
   "cell_type": "code",
   "execution_count": 2,
   "id": "f11d9c20",
   "metadata": {},
   "outputs": [
    {
     "name": "stdout",
     "output_type": "stream",
     "text": [
      "------------ state#0 ( ampl: 1) ------------\n",
      "q0: |0>\n",
      "------------ state#1 ( ampl: 1) ------------\n",
      "q1: |0>\n"
     ]
    }
   ],
   "source": [
    "qs = QuditSystem(2,2)\n",
    "vis.printQuditSystem(qs)"
   ]
  },
  {
   "cell_type": "code",
   "execution_count": 3,
   "id": "8403e6bb",
   "metadata": {},
   "outputs": [
    {
     "name": "stdout",
     "output_type": "stream",
     "text": [
      "------------ state#0 ( ampl: q0_0) ------------\n",
      "q0: |0>\n",
      "------------ state#1 ( ampl: q0_1) ------------\n",
      "q0: |1>\n",
      "------------ state#2 ( ampl: q1_0) ------------\n",
      "q1: |0>\n",
      "------------ state#3 ( ampl: q1_1) ------------\n",
      "q1: |1>\n"
     ]
    }
   ],
   "source": [
    "qs = QuditSystem(2,2,symbolic=True)\n",
    "vis.printQuditSystem(qs)"
   ]
  },
  {
   "cell_type": "code",
   "execution_count": null,
   "id": "ac8c38b8",
   "metadata": {},
   "outputs": [],
   "source": []
  }
 ],
 "metadata": {
  "kernelspec": {
   "display_name": "Python 3",
   "language": "python",
   "name": "python3"
  },
  "language_info": {
   "codemirror_mode": {
    "name": "ipython",
    "version": 3
   },
   "file_extension": ".py",
   "mimetype": "text/x-python",
   "name": "python",
   "nbconvert_exporter": "python",
   "pygments_lexer": "ipython3",
   "version": "3.9.6"
  }
 },
 "nbformat": 4,
 "nbformat_minor": 5
}
