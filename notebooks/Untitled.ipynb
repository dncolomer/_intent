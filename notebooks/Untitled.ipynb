{
 "cells": [
  {
   "cell_type": "code",
   "execution_count": 1,
   "id": "e0d84271",
   "metadata": {},
   "outputs": [],
   "source": [
    "from unsys import *\n",
    "import unsys.visualization as vis\n",
    "import unsys.transformations as trans\n",
    "\n",
    "import numpy as np"
   ]
  },
  {
   "cell_type": "code",
   "execution_count": 2,
   "id": "f11d9c20",
   "metadata": {},
   "outputs": [
    {
     "name": "stdout",
     "output_type": "stream",
     "text": [
      "---- Qudit q0 ----\n",
      "Amplitude: 1\n",
      "Ket: |0>\n",
      "***\n",
      "-------------------------\n",
      "---- Qudit q1 ----\n",
      "Amplitude: 1\n",
      "Ket: |0>\n",
      "***\n",
      "-------------------------\n"
     ]
    }
   ],
   "source": [
    "qs = QuditSystem(2,2)\n",
    "vis.printQuditSystem(qs)"
   ]
  },
  {
   "cell_type": "code",
   "execution_count": 4,
   "id": "cb5db3e9",
   "metadata": {},
   "outputs": [
    {
     "name": "stdout",
     "output_type": "stream",
     "text": [
      "---- Qudit q0 ----\n",
      "Amplitude: q1_0\n",
      "Ket: |0>\n",
      "***\n",
      "Amplitude: q1_1\n",
      "Ket: |1>\n",
      "***\n",
      "Amplitude: q1_2\n",
      "Ket: |2>\n",
      "***\n",
      "-------------------------\n",
      "---- Qudit q1 ----\n",
      "Amplitude: q1_0\n",
      "Ket: |0>\n",
      "***\n",
      "Amplitude: q1_1\n",
      "Ket: |1>\n",
      "***\n",
      "Amplitude: q1_2\n",
      "Ket: |2>\n",
      "***\n",
      "-------------------------\n"
     ]
    }
   ],
   "source": [
    "qs = QuditSystem(2,3,symbolic=True)\n",
    "vis.printQuditSystem(qs)"
   ]
  },
  {
   "cell_type": "code",
   "execution_count": null,
   "id": "d04841e8",
   "metadata": {},
   "outputs": [],
   "source": []
  }
 ],
 "metadata": {
  "kernelspec": {
   "display_name": "Python 3",
   "language": "python",
   "name": "python3"
  },
  "language_info": {
   "codemirror_mode": {
    "name": "ipython",
    "version": 3
   },
   "file_extension": ".py",
   "mimetype": "text/x-python",
   "name": "python",
   "nbconvert_exporter": "python",
   "pygments_lexer": "ipython3",
   "version": "3.9.6"
  }
 },
 "nbformat": 4,
 "nbformat_minor": 5
}
