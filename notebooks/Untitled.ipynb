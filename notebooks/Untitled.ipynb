{
 "cells": [
  {
   "cell_type": "code",
   "execution_count": 1,
   "id": "e0d84271",
   "metadata": {},
   "outputs": [],
   "source": [
    "from unsys import *\n",
    "import numpy as np\n",
    "import sympy.physics.quantum as spq"
   ]
  },
  {
   "cell_type": "code",
   "execution_count": 2,
   "id": "f11d9c20",
   "metadata": {},
   "outputs": [
    {
     "name": "stdout",
     "output_type": "stream",
     "text": [
      "id#1\n"
     ]
    }
   ],
   "source": [
    "qs = QuditSystem(2,2)\n",
    "qs.postSelect(1,spq.Ket(0))\n",
    "#qs.draw()"
   ]
  },
  {
   "cell_type": "code",
   "execution_count": 3,
   "id": "cb5db3e9",
   "metadata": {},
   "outputs": [],
   "source": [
    "qs = QuditSystem(2,3,symbolic=True)\n",
    "#qs.draw()"
   ]
  },
  {
   "cell_type": "code",
   "execution_count": null,
   "id": "997257d1",
   "metadata": {},
   "outputs": [],
   "source": []
  }
 ],
 "metadata": {
  "kernelspec": {
   "display_name": "Python 3",
   "language": "python",
   "name": "python3"
  },
  "language_info": {
   "codemirror_mode": {
    "name": "ipython",
    "version": 3
   },
   "file_extension": ".py",
   "mimetype": "text/x-python",
   "name": "python",
   "nbconvert_exporter": "python",
   "pygments_lexer": "ipython3",
   "version": "3.9.8"
  }
 },
 "nbformat": 4,
 "nbformat_minor": 5
}
