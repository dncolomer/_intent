{
 "cells": [
  {
   "cell_type": "code",
   "execution_count": 1,
   "id": "artistic-tract",
   "metadata": {},
   "outputs": [],
   "source": [
    "import numpy as np\n",
    "import sympy as sp\n",
    "import sympy.physics.quantum as spq\n",
    "\n",
    "import ehsim.visualization as vis\n",
    "\n",
    "from ehsim import Hypergraph\n",
    "from ehsim.gates import H, X, SWAP, CX, CCX"
   ]
  },
  {
   "cell_type": "code",
   "execution_count": 4,
   "id": "7ef297eb",
   "metadata": {},
   "outputs": [
    {
     "name": "stdout",
     "output_type": "stream",
     "text": [
      "q0      q1\n",
      "----------\n",
      "|0>     |0>     Not Entangled\n",
      "          \n",
      "----------\n",
      "          \n",
      "          \n",
      "q0      q1\n",
      "----------\n",
      "sqrt(2)*|0>/2 + sqrt(2)*|1>/2     |0>     Not Entangled\n",
      "          \n",
      "----------\n",
      "          \n",
      "          \n",
      "q0      q1\n",
      "----------\n",
      "|1>     |0>     weight: sqrt(2)/2\n",
      "|0>     |0>     weight: sqrt(2)/2\n",
      "          \n",
      "----------\n",
      "          \n",
      "          \n",
      "q0      q1\n",
      "----------\n",
      "|1>     N/A     weight: sqrt(2)/2\n",
      "|0>     N/A     weight: sqrt(2)/2\n",
      "N/A     |0>     Not Entangled\n",
      "          \n",
      "----------\n",
      "          \n",
      "          \n",
      "q0      q1\n",
      "----------\n",
      "|1>     N/A     weight: sqrt(2)/2\n",
      "|0>     N/A     weight: sqrt(2)/2\n",
      "N/A     |0>     Not Entangled\n",
      "          \n",
      "----------\n",
      "          \n",
      "          \n"
     ]
    }
   ],
   "source": [
    "system = Hypergraph(2, symbolic=False)\n",
    "vis.print_raw(system)#, subs=s)\n",
    "\n",
    "system.rewrite(H,[\"q0\"])\n",
    "vis.print_raw(system, simplify=False, subs=[])\n",
    "\n",
    "system.measure([\"q0\"])\n",
    "vis.print_raw(system, simplify=False, subs=[])\n",
    "\n",
    "system.simplify([\"q0\",\"q1\"])\n",
    "vis.print_raw(system, simplify=True, subs=[])\n",
    "\n",
    "system.postSelectZ([\"q0\"],spq.Ket(0))\n",
    "vis.print_raw(system, simplify=True, subs=[])"
   ]
  },
  {
   "cell_type": "code",
   "execution_count": null,
   "id": "0999c762",
   "metadata": {},
   "outputs": [],
   "source": [
    "s = {'n0_0':1, 'n0_1':0, 'n1_0':1, 'n1_1':0}\n",
    "\n",
    "system = Hypergraph(2, symbolic=True)\n",
    "vis.print_raw(system)#, subs=s)\n",
    "\n",
    "system.rewrite(H,[\"q0\"])\n",
    "vis.print_raw(system, simplify=False, subs=[])\n",
    "\n",
    "system.simplify([\"q0\",\"q1\"])\n",
    "vis.print_raw(system, simplify=True, subs=[])"
   ]
  },
  {
   "cell_type": "code",
   "execution_count": null,
   "id": "bce38660",
   "metadata": {},
   "outputs": [],
   "source": [
    "s = {'n0_0':1/sp.sqrt(2), 'n0_1':1/sp.sqrt(2), 'n1_0':1/sp.sqrt(2), 'n1_1':1/sp.sqrt(2)}\n",
    "\n",
    "system = Hypergraph(2, symbolic=True)\n",
    "vis.print_raw(system)#, subs=s)\n",
    "\n",
    "system.rewrite(H,[\"q0\"])\n",
    "vis.print_raw(system, simplify=True)#, subs=s)\n",
    "\n",
    "system.rewrite(H,[\"q1\"])\n",
    "vis.print_raw(system, simplify=True)#, subs=s)\n",
    "\n",
    "system.rewrite(CX,[\"q0\",\"q1\"])\n",
    "vis.print_raw(system, simplify=True)#, subs=s)\n",
    "\n",
    "system.factorQubits([\"q0\",\"q1\"])\n",
    "vis.print_raw(system, simplify=True, normalize=True)#, subs=s)"
   ]
  },
  {
   "cell_type": "code",
   "execution_count": null,
   "id": "893da2ab",
   "metadata": {},
   "outputs": [],
   "source": [
    "s = {'n0_0':1/sp.sqrt(2), 'n0_1':1/sp.sqrt(2)}\n",
    "\n",
    "system = Hypergraph(1, symbolic=True)\n",
    "vis.print_raw(system, subs=s)\n",
    "\n",
    "system.rewrite(H,[\"q0\"])\n",
    "vis.print_raw(system, simplify=True)#, subs=s)\n",
    "\n",
    "system.rewrite(X,[\"q0\"])\n",
    "vis.print_raw(system, simplify=True)#, subs=s)\n",
    "\n",
    "system.rewrite(H,[\"q0\"])\n",
    "vis.print_raw(system, simplify=True, subs=s)\n",
    "\n",
    "system.factorQubits([\"q0\"])\n",
    "vis.print_raw(system, simplify=True, subs=s)"
   ]
  },
  {
   "cell_type": "code",
   "execution_count": null,
   "id": "e0efb541",
   "metadata": {},
   "outputs": [],
   "source": [
    "system = Hypergraph(2, symbolic=True)\n",
    "vis.print_raw(system)\n",
    "\n",
    "system.rewrite(H,[\"q0\"])\n",
    "vis.print_raw(system, simplify=True)\n",
    "\n",
    "system.rewrite(CX,[\"q0\",\"q1\"])\n",
    "vis.print_raw(system, simplify=True)\n",
    "\n"
   ]
  },
  {
   "cell_type": "code",
   "execution_count": null,
   "id": "8d10ed3f",
   "metadata": {},
   "outputs": [],
   "source": [
    "# 2 qubit tests\n",
    "system = Hypergraph(1)\n",
    "vis.print_raw(system)\n",
    "\n",
    "system.rewrite(X,[\"q0\"])\n",
    "system.rewrite(H,[\"q0\"])\n",
    "vis.print_raw(system)\n",
    "\n",
    "system.rewrite(X,[\"q0\"])\n",
    "vis.print_raw(system)\n",
    "\n",
    "system.factorQubits([\"q0\"])\n",
    "vis.print_raw(system)\n"
   ]
  },
  {
   "cell_type": "code",
   "execution_count": null,
   "id": "bridal-soccer",
   "metadata": {},
   "outputs": [],
   "source": [
    "# 2 qubit tests\n",
    "system = Hypergraph(2)\n",
    "system.rewrite(X,[\"q0\"])\n",
    "system.rewrite(H,[\"q0\"])\n",
    "vis.print_raw(system)\n",
    "\n",
    "system.rewrite(SWAP,[\"q0\",\"q1\"])\n",
    "vis.print_raw(system)\n",
    "\n",
    "system.factorQubits([\"q0\",\"q1\"])\n",
    "vis.print_raw(system)\n"
   ]
  },
  {
   "cell_type": "code",
   "execution_count": null,
   "id": "730cab88",
   "metadata": {},
   "outputs": [],
   "source": [
    "# 3 qubit tests\n",
    "\n",
    "system = Hypergraph(4)\n",
    "vis.print_raw(system)\n",
    "\n",
    "system.rewrite(H,[\"q0\"])\n",
    "system.rewrite(H,[\"q1\"])\n",
    "vis.print_raw(system)\n",
    "\n",
    "system.rewrite(CCX,[\"q0\",\"q1\",\"q2\"])\n",
    "vis.print_raw(system)\n",
    "\n",
    "system.factorQubits([\"q0\",\"q1\",\"q2\"])\n",
    "vis.print_raw(system)"
   ]
  },
  {
   "cell_type": "code",
   "execution_count": null,
   "id": "2904b82d",
   "metadata": {},
   "outputs": [],
   "source": []
  }
 ],
 "metadata": {
  "kernelspec": {
   "display_name": "Python 3",
   "language": "python",
   "name": "python3"
  },
  "language_info": {
   "codemirror_mode": {
    "name": "ipython",
    "version": 3
   },
   "file_extension": ".py",
   "mimetype": "text/x-python",
   "name": "python",
   "nbconvert_exporter": "python",
   "pygments_lexer": "ipython3",
   "version": "3.9.4"
  }
 },
 "nbformat": 4,
 "nbformat_minor": 5
}
