{
 "cells": [
  {
   "cell_type": "code",
   "execution_count": 1,
   "id": "artistic-tract",
   "metadata": {},
   "outputs": [],
   "source": [
    "import numpy as np\n",
    "import sympy as sp\n",
    "import sympy.physics.quantum as spq\n",
    "import ehsim.visualization as vis\n",
    "\n",
    "from ehsim import StateSystem, StateCorrelation, State\n",
    "from ehsim.gates import H, X, SWAP, CX, CCX"
   ]
  },
  {
   "cell_type": "code",
   "execution_count": 11,
   "id": "067c7721",
   "metadata": {},
   "outputs": [
    {
     "name": "stdout",
     "output_type": "stream",
     "text": [
      "Input: a*|012> + b*|000> + c*|222>\n",
      "StateSystem: \n",
      "q0      q1      q2\n",
      "------------------\n",
      "|0>     |0>     |0>     weight: b\n",
      "|2>     |2>     |2>     weight: c\n",
      "|0>     |1>     |2>     weight: a\n",
      "                  \n",
      "------------------\n",
      "                  \n",
      "                  \n",
      "q0      q1      q2\n",
      "------------------\n",
      "s1_0*|0> + s1_1*|1> + s1_2*|2>     s2_0*|0> + s2_1*|1> + s2_2*|2>     s3_0*|0> + s3_1*|1> + s3_2*|2>     weight: 1\n",
      "                  \n",
      "------------------\n",
      "                  \n",
      "                  \n",
      "q0      q1      q2\n",
      "------------------\n",
      "|0>     |0>     |0>     weight: 1\n",
      "                  \n",
      "------------------\n",
      "                  \n",
      "                  \n"
     ]
    }
   ],
   "source": [
    "#sys = StateSystem(3,3)\n",
    "#vis.printStateSystem(sys)\n",
    "\n",
    "expr = sp.symbols('a')*spq.Ket('012') + sp.symbols('b')*spq.Ket('000') + sp.symbols('c')*spq.Ket('222')\n",
    "sys = StateSystem(3,2, sv_expr=expr)\n",
    "print(\"Input: \"+str(expr))\n",
    "print('StateSystem: ')\n",
    "vis.printStateSystem(sys)\n",
    "\n",
    "sys = StateSystem(3,3)\n",
    "vis.printStateSystem(sys)\n",
    "\n",
    "sys = StateSystem(3,3,symbolic=False)\n",
    "vis.printStateSystem(sys)\n"
   ]
  },
  {
   "cell_type": "code",
   "execution_count": 9,
   "id": "2904b82d",
   "metadata": {},
   "outputs": [
    {
     "name": "stdout",
     "output_type": "stream",
     "text": [
      "s4_0*|0> + s4_1*|1> + s4_2*|2>\n",
      "\n",
      "\n",
      "|0>\n",
      "\n",
      "\n",
      "a*|0> + b*|1> + c*|2>\n",
      "\n",
      "\n",
      "s7_0*|0> + s7_1*|1> + s7_2*|2> + s7_3*|3> + s7_4*|4> + s7_5*|5> + s7_6*|6> + s7_7*|7> + s7_8*|8> + s7_9*|9> + s7_a*|a> + s7_b*|b> + s7_c*|c> + s7_d*|d> + s7_e*|e> + s7_f*|f> + s7_g*|g> + s7_h*|h> + s7_i*|i> + s7_j*|j>\n",
      "\n",
      "\n"
     ]
    }
   ],
   "source": [
    "s = State(\"q0\",3)\n",
    "vis.printState(s)\n",
    "print(\"\\n\")\n",
    "\n",
    "s = State(\"q0\",3,symbolic=False)\n",
    "vis.printState(s)\n",
    "print(\"\\n\")\n",
    "\n",
    "expr = sp.symbols('a')*spq.Ket('0') + sp.symbols('b')*spq.Ket('1') + sp.symbols('c')*spq.Ket('2')\n",
    "s = State(\"q0\",3,initial_value=expr)\n",
    "vis.printState(s)\n",
    "print(\"\\n\")\n",
    "\n",
    "s = State(\"q0\",20)\n",
    "vis.printState(s)\n",
    "print(\"\\n\")"
   ]
  },
  {
   "cell_type": "code",
   "execution_count": null,
   "id": "1dcb3c90",
   "metadata": {},
   "outputs": [],
   "source": []
  }
 ],
 "metadata": {
  "kernelspec": {
   "display_name": "Python 3",
   "language": "python",
   "name": "python3"
  },
  "language_info": {
   "codemirror_mode": {
    "name": "ipython",
    "version": 3
   },
   "file_extension": ".py",
   "mimetype": "text/x-python",
   "name": "python",
   "nbconvert_exporter": "python",
   "pygments_lexer": "ipython3",
   "version": "3.9.4"
  }
 },
 "nbformat": 4,
 "nbformat_minor": 5
}
