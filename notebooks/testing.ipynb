{
 "cells": [
  {
   "cell_type": "code",
   "execution_count": 1,
   "id": "artistic-tract",
   "metadata": {},
   "outputs": [],
   "source": [
    "import numpy as np\n",
    "from ehsim import Hypergraph"
   ]
  },
  {
   "cell_type": "code",
   "execution_count": 2,
   "id": "interior-channels",
   "metadata": {},
   "outputs": [],
   "source": [
    "zero_ket = np.array([1, 0], dtype=np.complex_)\n",
    "one_ket = np.array([0, 1], dtype=np.complex_)\n",
    "plus_ket = np.array([1 / np.sqrt(2), 1 / np.sqrt(2)], dtype=np.complex_)\n",
    "minus_ket = np.array([1 / np.sqrt(2), -1 / np.sqrt(2)], dtype=np.complex_)\n",
    "\n",
    "X_rule = [{\n",
    "    'match':[zero_ket],\n",
    "    'replace':[one_ket]\n",
    "},\n",
    "{\n",
    "    'match':[one_ket],\n",
    "    'replace':[zero_ket]\n",
    "}]\n",
    "\n",
    "H_rule = [{\n",
    "    'match':[zero_ket],\n",
    "    'replace':[plus_ket]\n",
    "},\n",
    "{\n",
    "    'match':[one_ket],\n",
    "    'replace':[minus_ket]\n",
    "}]\n",
    "\n",
    "SWAP_rule = [{\n",
    "    'match':[zero_ket, one_ket],\n",
    "    'replace':[one_ket, zero_ket]\n",
    "},\n",
    "{\n",
    "    'match':[one_ket, zero_ket],\n",
    "    'replace':[zero_ket, one_ket]\n",
    "}]\n",
    "\n",
    "CX_rule = [{\n",
    "    'match':[one_ket, one_ket],\n",
    "    'replace':[one_ket, zero_ket]\n",
    "},\n",
    "{\n",
    "    'match':[one_ket, zero_ket],\n",
    "    'replace':[one_ket, one_ket]\n",
    "}]"
   ]
  },
  {
   "cell_type": "code",
   "execution_count": 3,
   "id": "bridal-soccer",
   "metadata": {},
   "outputs": [
    {
     "name": "stdout",
     "output_type": "stream",
     "text": [
      "q0\n",
      "[1.+0.j 0.+0.j]\n",
      "[0.+0.j 1.+0.j]\n",
      "N/A\n",
      "2\n"
     ]
    }
   ],
   "source": [
    "# start with 2 qubits:\n",
    "system = Hypergraph(1)\n",
    "system.rewrite(X_rule,[\"q0\"])\n",
    "#system.rewrite(X_rule,[\"q0\"])\n",
    "#system.rewrite(CX_rule,[\"q0\",\"q1\"])\n",
    "\n",
    "system.print_raw()\n",
    "\n",
    "print(len(system.nodes))"
   ]
  },
  {
   "cell_type": "code",
   "execution_count": null,
   "id": "initial-modification",
   "metadata": {},
   "outputs": [],
   "source": []
  }
 ],
 "metadata": {
  "kernelspec": {
   "display_name": "Python 3",
   "language": "python",
   "name": "python3"
  },
  "language_info": {
   "codemirror_mode": {
    "name": "ipython",
    "version": 3
   },
   "file_extension": ".py",
   "mimetype": "text/x-python",
   "name": "python",
   "nbconvert_exporter": "python",
   "pygments_lexer": "ipython3",
   "version": "3.9.2"
  }
 },
 "nbformat": 4,
 "nbformat_minor": 5
}
