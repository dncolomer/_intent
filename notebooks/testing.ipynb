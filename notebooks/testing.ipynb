{
 "cells": [
  {
   "cell_type": "code",
   "execution_count": 1,
   "id": "artistic-tract",
   "metadata": {},
   "outputs": [],
   "source": [
    "import numpy as np\n",
    "import sympy as sp\n",
    "import sympy.physics.quantum as spq\n",
    "\n",
    "import ehsim.visualization as vis\n",
    "\n",
    "from ehsim import Hypergraph\n",
    "from ehsim.gates import H, X, SWAP, CX, CCX"
   ]
  },
  {
   "cell_type": "code",
   "execution_count": 2,
   "id": "893da2ab",
   "metadata": {},
   "outputs": [
    {
     "name": "stdout",
     "output_type": "stream",
     "text": [
      "q0\n",
      "--\n",
      "n0_0*|0> + n0_1*|1>     Not Entangled\n",
      "  \n",
      "--\n",
      "  \n",
      "  \n",
      "q0\n",
      "--\n",
      "|->     Amplitude:n0_1\n",
      "|+>     Amplitude:n0_0\n",
      "  \n",
      "--\n",
      "  \n",
      "  \n",
      "q0\n",
      "--\n",
      "|0>     Amplitude:-sqrt(2)*n0_1/2\n",
      "|0>     Amplitude:sqrt(2)*n0_0/2\n",
      "|1>     Amplitude:sqrt(2)*n0_1/2\n",
      "|1>     Amplitude:sqrt(2)*n0_0/2\n",
      "  \n",
      "--\n",
      "  \n",
      "  \n",
      "|0>\n",
      "|0>\n",
      "-sqrt(2)*n0_1/2\n",
      "sqrt(2)*n0_0/2\n",
      "****\n",
      "|0>\n",
      "|1>\n",
      "1\n",
      "sqrt(2)*n0_1/2\n",
      "****\n",
      "sqrt(2)*n0_1*|1>/2 + |0>\n",
      "|1>\n",
      "1\n",
      "sqrt(2)*n0_0/2\n",
      "****\n",
      "q0\n",
      "--\n",
      "sqrt(2)*n0_0*|1>/2 + sqrt(2)*n0_1*|1>/2 + |0>     Not Entangled\n",
      "  \n",
      "--\n",
      "  \n",
      "  \n"
     ]
    }
   ],
   "source": [
    "system = Hypergraph(1, symbolic=True)\n",
    "vis.print_raw(system)\n",
    "\n",
    "system.rewrite(H,[\"q0\"])\n",
    "vis.print_raw(system, simplify=True)\n",
    "\n",
    "system.rewrite(X,[\"q0\"])\n",
    "vis.print_raw(system, simplify=False)\n",
    "\n",
    "system.factorQubits([\"q0\"])\n",
    "vis.print_raw(system, simplify=False)"
   ]
  },
  {
   "cell_type": "code",
   "execution_count": null,
   "id": "e0efb541",
   "metadata": {},
   "outputs": [],
   "source": [
    "system = Hypergraph(2, symbolic=True)\n",
    "vis.print_raw(system)\n",
    "\n",
    "system.rewrite(H,[\"q0\"])\n",
    "vis.print_raw(system, simplify=True)\n",
    "\n",
    "system.rewrite(CX,[\"q0\",\"q1\"])\n",
    "vis.print_raw(system, simplify=True)\n",
    "\n"
   ]
  },
  {
   "cell_type": "code",
   "execution_count": null,
   "id": "8d10ed3f",
   "metadata": {},
   "outputs": [],
   "source": [
    "# 2 qubit tests\n",
    "system = Hypergraph(1)\n",
    "vis.print_raw(system)\n",
    "\n",
    "system.rewrite(X,[\"q0\"])\n",
    "system.rewrite(H,[\"q0\"])\n",
    "vis.print_raw(system)\n",
    "\n",
    "system.rewrite(X,[\"q0\"])\n",
    "vis.print_raw(system)\n",
    "\n",
    "system.factorQubits([\"q0\"])\n",
    "vis.print_raw(system)\n"
   ]
  },
  {
   "cell_type": "code",
   "execution_count": null,
   "id": "bridal-soccer",
   "metadata": {},
   "outputs": [],
   "source": [
    "# 2 qubit tests\n",
    "system = Hypergraph(2)\n",
    "system.rewrite(X,[\"q0\"])\n",
    "system.rewrite(H,[\"q0\"])\n",
    "vis.print_raw(system)\n",
    "\n",
    "system.rewrite(SWAP,[\"q0\",\"q1\"])\n",
    "vis.print_raw(system)\n",
    "\n",
    "system.factorQubits([\"q0\",\"q1\"])\n",
    "vis.print_raw(system)\n"
   ]
  },
  {
   "cell_type": "code",
   "execution_count": null,
   "id": "730cab88",
   "metadata": {},
   "outputs": [],
   "source": [
    "# 3 qubit tests\n",
    "\n",
    "system = Hypergraph(4)\n",
    "vis.print_raw(system)\n",
    "\n",
    "system.rewrite(H,[\"q0\"])\n",
    "system.rewrite(H,[\"q1\"])\n",
    "vis.print_raw(system)\n",
    "\n",
    "system.rewrite(CCX,[\"q0\",\"q1\",\"q2\"])\n",
    "vis.print_raw(system)\n",
    "\n",
    "system.factorQubits([\"q0\",\"q1\",\"q2\"])\n",
    "vis.print_raw(system)"
   ]
  },
  {
   "cell_type": "code",
   "execution_count": null,
   "id": "2904b82d",
   "metadata": {},
   "outputs": [],
   "source": []
  }
 ],
 "metadata": {
  "kernelspec": {
   "display_name": "Python 3",
   "language": "python",
   "name": "python3"
  },
  "language_info": {
   "codemirror_mode": {
    "name": "ipython",
    "version": 3
   },
   "file_extension": ".py",
   "mimetype": "text/x-python",
   "name": "python",
   "nbconvert_exporter": "python",
   "pygments_lexer": "ipython3",
   "version": "3.9.4"
  }
 },
 "nbformat": 4,
 "nbformat_minor": 5
}
