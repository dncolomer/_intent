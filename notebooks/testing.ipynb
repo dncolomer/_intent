{
 "cells": [
  {
   "cell_type": "code",
   "execution_count": 1,
   "id": "artistic-tract",
   "metadata": {},
   "outputs": [],
   "source": [
    "import numpy as np\n",
    "import sympy as sp\n",
    "import sympy.physics.quantum as spq\n",
    "import ehsim.visualization as vis\n",
    "\n",
    "from ehsim import StateSystem, StateCorrelation, State\n",
    "from ehsim.gates import H, X, SWAP, CX, CCX"
   ]
  },
  {
   "cell_type": "code",
   "execution_count": 2,
   "id": "2904b82d",
   "metadata": {},
   "outputs": [
    {
     "name": "stdout",
     "output_type": "stream",
     "text": [
      "n0_0*|0> + n0_1*|1> + n0_2*|2>\n",
      "|0>\n",
      "a*|0> + b*|1> + c*|2>\n"
     ]
    }
   ],
   "source": [
    "s = State(\"q0\",3)\n",
    "vis.printState(s)\n",
    "\n",
    "s = State(\"q0\",3,symbolic=False)\n",
    "vis.printState(s)\n",
    "\n",
    "expr = sp.symbols('a')*spq.Ket('0') + sp.symbols('b')*spq.Ket('1') + sp.symbols('c')*spq.Ket('2')\n",
    "s = State(\"q0\",3,initial_value=expr)\n",
    "vis.printState(s)"
   ]
  },
  {
   "cell_type": "code",
   "execution_count": null,
   "id": "1dcb3c90",
   "metadata": {},
   "outputs": [],
   "source": []
  }
 ],
 "metadata": {
  "kernelspec": {
   "display_name": "Python 3",
   "language": "python",
   "name": "python3"
  },
  "language_info": {
   "codemirror_mode": {
    "name": "ipython",
    "version": 3
   },
   "file_extension": ".py",
   "mimetype": "text/x-python",
   "name": "python",
   "nbconvert_exporter": "python",
   "pygments_lexer": "ipython3",
   "version": "3.9.4"
  }
 },
 "nbformat": 4,
 "nbformat_minor": 5
}
