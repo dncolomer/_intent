{
 "cells": [
  {
   "cell_type": "code",
   "execution_count": 1,
   "id": "artistic-tract",
   "metadata": {},
   "outputs": [],
   "source": [
    "import numpy as np\n",
    "import sympy as sp\n",
    "\n",
    "import ehsim.visualization as vis\n",
    "\n",
    "from ehsim import Hypergraph\n",
    "from ehsim.gates import H, X, SWAP, CX, CCX"
   ]
  },
  {
   "cell_type": "code",
   "execution_count": 2,
   "id": "2c334ef9",
   "metadata": {},
   "outputs": [
    {
     "name": "stdout",
     "output_type": "stream",
     "text": [
      "q0\n",
      "--\n",
      "n0_0*|0> + n0_1*|1>     Not Entangled\n",
      "  \n",
      "--\n",
      "  \n",
      "  \n",
      "q0\n",
      "--\n"
     ]
    },
    {
     "ename": "TypeError",
     "evalue": "list.append() takes exactly one argument (2 given)",
     "output_type": "error",
     "traceback": [
      "\u001b[1;31m---------------------------------------------------------------------------\u001b[0m",
      "\u001b[1;31mTypeError\u001b[0m                                 Traceback (most recent call last)",
      "\u001b[1;32m<ipython-input-2-b71481f4f206>\u001b[0m in \u001b[0;36m<module>\u001b[1;34m\u001b[0m\n\u001b[0;32m      3\u001b[0m \u001b[1;33m\u001b[0m\u001b[0m\n\u001b[0;32m      4\u001b[0m \u001b[0msystem\u001b[0m\u001b[1;33m.\u001b[0m\u001b[0mrewrite\u001b[0m\u001b[1;33m(\u001b[0m\u001b[0mH\u001b[0m\u001b[1;33m,\u001b[0m\u001b[1;33m[\u001b[0m\u001b[1;34m\"q0\"\u001b[0m\u001b[1;33m]\u001b[0m\u001b[1;33m)\u001b[0m\u001b[1;33m\u001b[0m\u001b[1;33m\u001b[0m\u001b[0m\n\u001b[1;32m----> 5\u001b[1;33m \u001b[0mvis\u001b[0m\u001b[1;33m.\u001b[0m\u001b[0mprint_raw\u001b[0m\u001b[1;33m(\u001b[0m\u001b[0msystem\u001b[0m\u001b[1;33m,\u001b[0m \u001b[0msimplify\u001b[0m\u001b[1;33m=\u001b[0m\u001b[1;32mFalse\u001b[0m\u001b[1;33m)\u001b[0m\u001b[1;33m\u001b[0m\u001b[1;33m\u001b[0m\u001b[0m\n\u001b[0m",
      "\u001b[1;32mc:\\users\\unsys\\workspace\\ehsim_prototype\\ehsim\\visualization.py\u001b[0m in \u001b[0;36mprint_raw\u001b[1;34m(hypergraph, simplify)\u001b[0m\n\u001b[0;32m    111\u001b[0m                     \u001b[0mphelper\u001b[0m\u001b[1;33m.\u001b[0m\u001b[0mappend\u001b[0m\u001b[1;33m(\u001b[0m\u001b[0msimplifiedState\u001b[0m\u001b[1;33m(\u001b[0m\u001b[0mhypergraph\u001b[0m\u001b[1;33m,\u001b[0m\u001b[0mhypergraph\u001b[0m\u001b[1;33m.\u001b[0m\u001b[0mnodes\u001b[0m\u001b[1;33m[\u001b[0m\u001b[0mnid\u001b[0m\u001b[1;33m]\u001b[0m\u001b[1;33m.\u001b[0m\u001b[0mstate\u001b[0m\u001b[1;33m)\u001b[0m\u001b[1;33m)\u001b[0m\u001b[1;33m\u001b[0m\u001b[1;33m\u001b[0m\u001b[0m\n\u001b[0;32m    112\u001b[0m                 \u001b[1;32melse\u001b[0m\u001b[1;33m:\u001b[0m\u001b[1;33m\u001b[0m\u001b[1;33m\u001b[0m\u001b[0m\n\u001b[1;32m--> 113\u001b[1;33m                     \u001b[0mphelper\u001b[0m\u001b[1;33m.\u001b[0m\u001b[0mappend\u001b[0m\u001b[1;33m(\u001b[0m\u001b[0mhypergraph\u001b[0m\u001b[1;33m,\u001b[0m\u001b[0mhypergraph\u001b[0m\u001b[1;33m.\u001b[0m\u001b[0mnodes\u001b[0m\u001b[1;33m[\u001b[0m\u001b[0mnid\u001b[0m\u001b[1;33m]\u001b[0m\u001b[1;33m.\u001b[0m\u001b[0mstate\u001b[0m\u001b[1;33m)\u001b[0m\u001b[1;33m\u001b[0m\u001b[1;33m\u001b[0m\u001b[0m\n\u001b[0m\u001b[0;32m    114\u001b[0m             \u001b[1;32melse\u001b[0m\u001b[1;33m:\u001b[0m\u001b[1;33m\u001b[0m\u001b[1;33m\u001b[0m\u001b[0m\n\u001b[0;32m    115\u001b[0m                 \u001b[0mphelper\u001b[0m\u001b[1;33m.\u001b[0m\u001b[0mappend\u001b[0m\u001b[1;33m(\u001b[0m\u001b[1;34m\"N/A\"\u001b[0m\u001b[1;33m)\u001b[0m\u001b[1;33m\u001b[0m\u001b[1;33m\u001b[0m\u001b[0m\n",
      "\u001b[1;31mTypeError\u001b[0m: list.append() takes exactly one argument (2 given)"
     ]
    }
   ],
   "source": [
    "system = Hypergraph(1, symbolic=True)\n",
    "vis.print_raw(system)\n",
    "\n",
    "system.rewrite(H,[\"q0\"])\n",
    "vis.print_raw(system, simplify=False)"
   ]
  },
  {
   "cell_type": "code",
   "execution_count": null,
   "id": "8d10ed3f",
   "metadata": {},
   "outputs": [],
   "source": [
    "# 2 qubit tests\n",
    "system = Hypergraph(1)\n",
    "vis.print_raw(system)\n",
    "\n",
    "system.rewrite(X,[\"q0\"])\n",
    "system.rewrite(H,[\"q0\"])\n",
    "vis.print_raw(system)\n",
    "\n",
    "system.rewrite(X,[\"q0\"])\n",
    "vis.print_raw(system)\n",
    "\n",
    "system.factorQubits([\"q0\"])\n",
    "vis.print_raw(system)\n"
   ]
  },
  {
   "cell_type": "code",
   "execution_count": null,
   "id": "bridal-soccer",
   "metadata": {},
   "outputs": [],
   "source": [
    "# 2 qubit tests\n",
    "system = Hypergraph(2)\n",
    "system.rewrite(X,[\"q0\"])\n",
    "system.rewrite(H,[\"q0\"])\n",
    "vis.print_raw(system)\n",
    "\n",
    "system.rewrite(SWAP,[\"q0\",\"q1\"])\n",
    "vis.print_raw(system)\n",
    "\n",
    "system.factorQubits([\"q0\",\"q1\"])\n",
    "vis.print_raw(system)\n"
   ]
  },
  {
   "cell_type": "code",
   "execution_count": null,
   "id": "730cab88",
   "metadata": {},
   "outputs": [],
   "source": [
    "# 3 qubit tests\n",
    "\n",
    "system = Hypergraph(4)\n",
    "vis.print_raw(system)\n",
    "\n",
    "system.rewrite(H,[\"q0\"])\n",
    "system.rewrite(H,[\"q1\"])\n",
    "vis.print_raw(system)\n",
    "\n",
    "system.rewrite(CCX,[\"q0\",\"q1\",\"q2\"])\n",
    "vis.print_raw(system)\n",
    "\n",
    "system.factorQubits([\"q0\",\"q1\",\"q2\"])\n",
    "vis.print_raw(system)"
   ]
  },
  {
   "cell_type": "code",
   "execution_count": null,
   "id": "2904b82d",
   "metadata": {},
   "outputs": [],
   "source": []
  }
 ],
 "metadata": {
  "kernelspec": {
   "display_name": "Python 3",
   "language": "python",
   "name": "python3"
  },
  "language_info": {
   "codemirror_mode": {
    "name": "ipython",
    "version": 3
   },
   "file_extension": ".py",
   "mimetype": "text/x-python",
   "name": "python",
   "nbconvert_exporter": "python",
   "pygments_lexer": "ipython3",
   "version": "3.9.2"
  }
 },
 "nbformat": 4,
 "nbformat_minor": 5
}
