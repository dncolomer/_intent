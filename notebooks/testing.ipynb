{
 "cells": [
  {
   "cell_type": "code",
   "execution_count": 1,
   "id": "artistic-tract",
   "metadata": {},
   "outputs": [],
   "source": [
    "import numpy as np\n",
    "\n",
    "import ehsim.visualization as vis\n",
    "\n",
    "from ehsim import Hypergraph\n",
    "from ehsim.gates import H, X, SWAP, CX, CCX"
   ]
  },
  {
   "cell_type": "code",
   "execution_count": 2,
   "id": "8d10ed3f",
   "metadata": {},
   "outputs": [
    {
     "name": "stdout",
     "output_type": "stream",
     "text": [
      "q0\n",
      "--\n",
      "|0>      Not Entangled\n",
      "  \n",
      "[1.+0.j 0.+0.j]\n",
      "--\n",
      "  \n",
      "  \n",
      "q0\n",
      "--\n",
      "|->*     Not Entangled\n",
      "  \n",
      "[ 0.707+0.j -0.707+0.j]\n",
      "--\n",
      "  \n",
      "  \n",
      "q0\n",
      "--\n",
      "|0>*     Amplitude:(-0.7071067811865475+0j)\n",
      "|1>*     Amplitude:(0.7071067811865475+0j)\n",
      "  \n",
      "[-0.707+0.j  0.707+0.j]\n",
      "--\n",
      "  \n",
      "  \n",
      "q0\n",
      "--\n",
      "|->      Not Entangled\n",
      "  \n",
      "[-0.707+0.j  0.707+0.j]\n",
      "--\n",
      "  \n",
      "  \n"
     ]
    }
   ],
   "source": [
    "# 2 qubit tests\n",
    "system = Hypergraph(1)\n",
    "vis.print_raw(system)\n",
    "\n",
    "system.rewrite(X,[\"q0\"])\n",
    "system.rewrite(H,[\"q0\"])\n",
    "vis.print_raw(system)\n",
    "\n",
    "system.rewrite(X,[\"q0\"])\n",
    "vis.print_raw(system)\n",
    "\n",
    "system.factorQubits([\"q0\"])\n",
    "vis.print_raw(system)\n"
   ]
  },
  {
   "cell_type": "code",
   "execution_count": 5,
   "id": "bridal-soccer",
   "metadata": {},
   "outputs": [
    {
     "name": "stdout",
     "output_type": "stream",
     "text": [
      "q0      q1\n",
      "----------\n",
      "|->*     |0>      Not Entangled\n",
      "          \n",
      "[ 0.707+0.j -0.707+0.j  0.   +0.j -0.   +0.j]\n",
      "----------\n",
      "          \n",
      "          \n",
      "q0      q1\n",
      "----------\n",
      "|0>*     |1>*     Amplitude:(-0.7071067811865475+0j)\n",
      "|0>      |0>      Amplitude:(0.7071067811865475+0j)\n",
      "          \n",
      "[ 0.707+0.j  0.   +0.j -0.707+0.j  0.   +0.j]\n",
      "----------\n",
      "          \n",
      "          \n",
      "q0      q1\n",
      "----------\n",
      "|0>      |->      Not Entangled\n",
      "          \n",
      "[ 0.707+0.j  0.   +0.j -0.707+0.j -0.   +0.j]\n",
      "----------\n",
      "          \n",
      "          \n"
     ]
    }
   ],
   "source": [
    "# 2 qubit tests\n",
    "system = Hypergraph(2)\n",
    "system.rewrite(X,[\"q0\"])\n",
    "system.rewrite(H,[\"q0\"])\n",
    "vis.print_raw(system)\n",
    "\n",
    "system.rewrite(SWAP,[\"q0\",\"q1\"])\n",
    "vis.print_raw(system)\n",
    "\n",
    "system.factorQubits([\"q0\",\"q1\"])\n",
    "vis.print_raw(system)\n"
   ]
  },
  {
   "cell_type": "code",
   "execution_count": 6,
   "id": "730cab88",
   "metadata": {},
   "outputs": [
    {
     "name": "stdout",
     "output_type": "stream",
     "text": [
      "q0      q1      q2      q3\n",
      "--------------------------\n",
      "|0>      |0>      |0>      |0>      Not Entangled\n",
      "                          \n",
      "[1.+0.j 0.+0.j 0.+0.j 0.+0.j 0.+0.j 0.+0.j 0.+0.j 0.+0.j 0.+0.j 0.+0.j\n",
      " 0.+0.j 0.+0.j 0.+0.j 0.+0.j 0.+0.j 0.+0.j]\n",
      "--------------------------\n",
      "                          \n",
      "                          \n",
      "q0      q1      q2      q3\n",
      "--------------------------\n",
      "|+>      |+>*     |0>      |0>      Not Entangled\n",
      "                          \n",
      "[0.5+0.j 0.5+0.j 0.5+0.j 0.5+0.j 0. +0.j 0. +0.j 0. +0.j 0. +0.j 0. +0.j\n",
      " 0. +0.j 0. +0.j 0. +0.j 0. +0.j 0. +0.j 0. +0.j 0. +0.j]\n",
      "--------------------------\n",
      "                          \n",
      "                          \n",
      "q0      q1      q2      q3\n",
      "--------------------------\n",
      "|1>*     |1>*     |0>      |0>      Amplitude:(0.4999999999999999+0j)\n",
      "|0>      |1>      |0>      |0>      Amplitude:(0.4999999999999999+0j)\n",
      "|1>      |0>      |0>      |0>      Amplitude:(0.4999999999999999+0j)\n",
      "|0>      |0>      |0>      |0>      Amplitude:(0.4999999999999999+0j)\n",
      "                          \n",
      "[0.5+0.j 0.5+0.j 0.5+0.j 0.5+0.j 0. +0.j 0. +0.j 0. +0.j 0. +0.j 0. +0.j\n",
      " 0. +0.j 0. +0.j 0. +0.j 0. +0.j 0. +0.j 0. +0.j 0. +0.j]\n",
      "--------------------------\n",
      "                          \n",
      "                          \n",
      "The qubits are entangled with others not specified in the input\n",
      "q0      q1      q2      q3\n",
      "--------------------------\n",
      "|1>*     |1>*     |0>      |0>      Amplitude:(0.4999999999999999+0j)\n",
      "|0>      |1>      |0>      |0>      Amplitude:(0.4999999999999999+0j)\n",
      "|1>      |0>      |0>      |0>      Amplitude:(0.4999999999999999+0j)\n",
      "|0>      |0>      |0>      |0>      Amplitude:(0.4999999999999999+0j)\n",
      "                          \n",
      "[0.5+0.j 0.5+0.j 0.5+0.j 0.5+0.j 0. +0.j 0. +0.j 0. +0.j 0. +0.j 0. +0.j\n",
      " 0. +0.j 0. +0.j 0. +0.j 0. +0.j 0. +0.j 0. +0.j 0. +0.j]\n",
      "--------------------------\n",
      "                          \n",
      "                          \n"
     ]
    }
   ],
   "source": [
    "# 3 qubit tests\n",
    "\n",
    "system = Hypergraph(4)\n",
    "vis.print_raw(system)\n",
    "\n",
    "system.rewrite(H,[\"q0\"])\n",
    "system.rewrite(H,[\"q1\"])\n",
    "vis.print_raw(system)\n",
    "\n",
    "system.rewrite(CCX,[\"q0\",\"q1\",\"q2\"])\n",
    "vis.print_raw(system)\n",
    "\n",
    "system.factorQubits([\"q0\",\"q1\",\"q2\"])\n",
    "vis.print_raw(system)"
   ]
  },
  {
   "cell_type": "code",
   "execution_count": null,
   "id": "initial-modification",
   "metadata": {},
   "outputs": [],
   "source": []
  }
 ],
 "metadata": {
  "kernelspec": {
   "display_name": "Python 3",
   "language": "python",
   "name": "python3"
  },
  "language_info": {
   "codemirror_mode": {
    "name": "ipython",
    "version": 3
   },
   "file_extension": ".py",
   "mimetype": "text/x-python",
   "name": "python",
   "nbconvert_exporter": "python",
   "pygments_lexer": "ipython3",
   "version": "3.9.2"
  }
 },
 "nbformat": 4,
 "nbformat_minor": 5
}
