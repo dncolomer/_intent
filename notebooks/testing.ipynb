{
 "cells": [
  {
   "cell_type": "code",
   "execution_count": 1,
   "id": "artistic-tract",
   "metadata": {},
   "outputs": [],
   "source": [
    "import numpy as np\n",
    "import sympy as sp\n",
    "import sympy.physics.quantum as spq\n",
    "import ehsim.visualization as vis\n",
    "\n",
    "from ehsim import StateSystem, StateCorrelation, State\n",
    "from ehsim.gates import H, X, SWAP, CX, CCX"
   ]
  },
  {
   "cell_type": "code",
   "execution_count": 2,
   "id": "dbe20297",
   "metadata": {},
   "outputs": [
    {
     "name": "stdout",
     "output_type": "stream",
     "text": [
      "False\n",
      "True\n",
      "True\n"
     ]
    }
   ],
   "source": [
    "expr1 = spq.Ket('012') + spq.Ket('000') + spq.Ket('222')\n",
    "expr2 = -1*spq.Ket('012') + -1*spq.Ket('000') + -1*spq.Ket('222')\n",
    "expr3 = spq.Ket('012') + spq.Ket('000') + -1*spq.Ket('222')\n",
    "\n",
    "sys = StateSystem(1,1)\n",
    "print(sys.stateEq(expr1,expr3))\n",
    "print(sys.stateEq(expr1,expr2))\n",
    "print(sys.stateEq(expr1,expr1))\n"
   ]
  },
  {
   "cell_type": "code",
   "execution_count": null,
   "id": "067c7721",
   "metadata": {},
   "outputs": [],
   "source": [
    "#sys = StateSystem(3,3)\n",
    "#vis.printStateSystem(sys)\n",
    "\n",
    "expr = sp.symbols('a')*spq.Ket('012') + sp.symbols('b')*spq.Ket('000') + sp.symbols('c')*spq.Ket('222')\n",
    "sys = StateSystem(3,2, sv_expr=expr)\n",
    "print(\"Input: \"+str(expr))\n",
    "print('StateSystem: ')\n",
    "vis.printStateSystem(sys)\n",
    "\n",
    "sys = StateSystem(3,3)\n",
    "vis.printStateSystem(sys)\n",
    "\n",
    "sys = StateSystem(3,3,symbolic=False)\n",
    "vis.printStateSystem(sys)\n"
   ]
  },
  {
   "cell_type": "code",
   "execution_count": null,
   "id": "2904b82d",
   "metadata": {},
   "outputs": [],
   "source": [
    "s = State(\"q0\",3)\n",
    "vis.printState(s)\n",
    "print(\"\\n\")\n",
    "\n",
    "s = State(\"q0\",3,symbolic=False)\n",
    "vis.printState(s)\n",
    "print(\"\\n\")\n",
    "\n",
    "expr = sp.symbols('a')*spq.Ket('0') + sp.symbols('b')*spq.Ket('1') + sp.symbols('c')*spq.Ket('2')\n",
    "s = State(\"q0\",3,initial_value=expr)\n",
    "vis.printState(s)\n",
    "print(\"\\n\")\n",
    "\n",
    "s = State(\"q0\",20)\n",
    "vis.printState(s)\n",
    "print(\"\\n\")"
   ]
  },
  {
   "cell_type": "code",
   "execution_count": null,
   "id": "1dcb3c90",
   "metadata": {},
   "outputs": [],
   "source": []
  }
 ],
 "metadata": {
  "kernelspec": {
   "display_name": "Python 3",
   "language": "python",
   "name": "python3"
  },
  "language_info": {
   "codemirror_mode": {
    "name": "ipython",
    "version": 3
   },
   "file_extension": ".py",
   "mimetype": "text/x-python",
   "name": "python",
   "nbconvert_exporter": "python",
   "pygments_lexer": "ipython3",
   "version": "3.9.4"
  }
 },
 "nbformat": 4,
 "nbformat_minor": 5
}
