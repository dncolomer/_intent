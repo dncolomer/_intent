{
 "cells": [
  {
   "cell_type": "code",
   "execution_count": 2,
   "id": "672799e7",
   "metadata": {},
   "outputs": [],
   "source": [
    "from sympy.physics.quantum import Ket\n",
    "from sympy import *"
   ]
  },
  {
   "cell_type": "code",
   "execution_count": 14,
   "id": "979fe0e0",
   "metadata": {},
   "outputs": [
    {
     "name": "stdout",
     "output_type": "stream",
     "text": [
      "|000>\n",
      "000\n"
     ]
    }
   ],
   "source": [
    "expr = symbols('a')*Ket('012') + symbols('b')*Ket('000')\n",
    "syms = list(expr.free_symbols)\n",
    "print(syms[1])\n",
    "print(syms[1].label[0])"
   ]
  },
  {
   "cell_type": "code",
   "execution_count": 19,
   "id": "c38d2f47",
   "metadata": {},
   "outputs": [
    {
     "name": "stdout",
     "output_type": "stream",
     "text": [
      "(|0>**2 + |1>**2)**2\n"
     ]
    }
   ],
   "source": [
    "expr = Ket(0)*Ket(0)*Ket(0)*Ket(0) + Ket(1)*Ket(1)*Ket(0)*Ket(0) + Ket(0)*Ket(0)*Ket(1)*Ket(1) + Ket(1)*Ket(1)*Ket(1)*Ket(1)\n",
    "simpl = expr.factor()\n",
    "\n",
    "print(simpl)"
   ]
  },
  {
   "cell_type": "code",
   "execution_count": 14,
   "id": "57e3a696",
   "metadata": {},
   "outputs": [
    {
     "name": "stdout",
     "output_type": "stream",
     "text": [
      "a*|0> + b*|1>\n",
      "a\n",
      "b\n",
      "c\n",
      "3*|0> + 2*|1>\n"
     ]
    }
   ],
   "source": [
    "subs = {'a': 3, 'b': 2, 'c':5}\n",
    "expr = symbols('a')*Ket(0) + symbols('b')*Ket(1)\n",
    "print(expr)\n",
    "for sub in subs:\n",
    "    print(sub)\n",
    "    if (symbols(sub) in expr.free_symbols):\n",
    "        expr = expr.subs(symbols(sub),subs[sub])\n",
    "\n",
    "print(expr)"
   ]
  },
  {
   "cell_type": "code",
   "execution_count": null,
   "id": "93f09a76",
   "metadata": {},
   "outputs": [],
   "source": [
    "print(k)"
   ]
  },
  {
   "cell_type": "code",
   "execution_count": null,
   "id": "f85d53b3",
   "metadata": {},
   "outputs": [],
   "source": [
    "print(1/kk+k)"
   ]
  },
  {
   "cell_type": "code",
   "execution_count": null,
   "id": "a41ad436",
   "metadata": {},
   "outputs": [],
   "source": [
    "a, b = symbols('a, b', complex=True)\n",
    "\n",
    "expr = a*Ket(0) + a*Ket(1)\n",
    "simp = simplify(expr)\n",
    "print(expr)\n",
    "print(simp)\n",
    "print(expr.coeff(Ket(0)) == a)"
   ]
  },
  {
   "cell_type": "code",
   "execution_count": null,
   "id": "b4c1d6f1",
   "metadata": {},
   "outputs": [],
   "source": [
    "print(Ket('+'))"
   ]
  },
  {
   "cell_type": "code",
   "execution_count": null,
   "id": "def242ce",
   "metadata": {},
   "outputs": [],
   "source": [
    "srepr(expr)"
   ]
  },
  {
   "cell_type": "code",
   "execution_count": null,
   "id": "e9c08da7",
   "metadata": {},
   "outputs": [],
   "source": [
    "print(latex(expr))"
   ]
  },
  {
   "cell_type": "code",
   "execution_count": null,
   "id": "035d875d",
   "metadata": {},
   "outputs": [],
   "source": []
  }
 ],
 "metadata": {
  "kernelspec": {
   "display_name": "Python 3",
   "language": "python",
   "name": "python3"
  },
  "language_info": {
   "codemirror_mode": {
    "name": "ipython",
    "version": 3
   },
   "file_extension": ".py",
   "mimetype": "text/x-python",
   "name": "python",
   "nbconvert_exporter": "python",
   "pygments_lexer": "ipython3",
   "version": "3.9.4"
  }
 },
 "nbformat": 4,
 "nbformat_minor": 5
}
